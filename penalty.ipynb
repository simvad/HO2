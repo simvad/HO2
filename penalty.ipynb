{
 "cells": [
  {
   "cell_type": "markdown",
   "metadata": {},
   "source": [
    "# Penalty kicks with types"
   ]
  },
  {
   "cell_type": "code",
   "execution_count": 42,
   "metadata": {},
   "outputs": [],
   "source": [
    "import numpy as np \n",
    "import pandas as pd \n",
    "import nashpy\n",
    "import bimatrix"
   ]
  },
  {
   "cell_type": "code",
   "execution_count": 3,
   "metadata": {},
   "outputs": [],
   "source": [
    "def print_payoffs(U1, U2, A1=None, A2=None, player1=None, player2=None): \n",
    "    na1,na2 = U1.shape\n",
    "    tab = pd.DataFrame([[(U1[r,c],U2[r,c]) for c in range(na2)] for r in range(na1)])\n",
    "\n",
    "    # nice headings \n",
    "    if A1 is not None: \n",
    "        tab.index = A1\n",
    "    if A2 is not None:\n",
    "        tab.columns = A2\n",
    "    if player1 is not None:\n",
    "        tab.index.name = player1\n",
    "    if player2 is not None:\n",
    "        tab.columns.name = player2\n",
    "    \n",
    "    return tab "
   ]
  },
  {
   "cell_type": "markdown",
   "metadata": {},
   "source": [
    "# Input data"
   ]
  },
  {
   "cell_type": "code",
   "execution_count": 4,
   "metadata": {},
   "outputs": [],
   "source": [
    "# names of the actions \n",
    "A = ['L','C','R']"
   ]
  },
  {
   "cell_type": "code",
   "execution_count": 5,
   "metadata": {},
   "outputs": [
    {
     "name": "stdout",
     "output_type": "stream",
     "text": [
      "--- Action frequencies ---\n"
     ]
    },
    {
     "data": {
      "text/html": [
       "<div>\n",
       "<style scoped>\n",
       "    .dataframe tbody tr th:only-of-type {\n",
       "        vertical-align: middle;\n",
       "    }\n",
       "\n",
       "    .dataframe tbody tr th {\n",
       "        vertical-align: top;\n",
       "    }\n",
       "\n",
       "    .dataframe thead th {\n",
       "        text-align: right;\n",
       "    }\n",
       "</style>\n",
       "<table border=\"1\" class=\"dataframe\">\n",
       "  <thead>\n",
       "    <tr style=\"text-align: right;\">\n",
       "      <th></th>\n",
       "      <th>Goalie</th>\n",
       "      <th>Kicker</th>\n",
       "    </tr>\n",
       "  </thead>\n",
       "  <tbody>\n",
       "    <tr>\n",
       "      <th>L</th>\n",
       "      <td>0.57</td>\n",
       "      <td>0.45</td>\n",
       "    </tr>\n",
       "    <tr>\n",
       "      <th>C</th>\n",
       "      <td>0.02</td>\n",
       "      <td>0.17</td>\n",
       "    </tr>\n",
       "    <tr>\n",
       "      <th>R</th>\n",
       "      <td>0.41</td>\n",
       "      <td>0.38</td>\n",
       "    </tr>\n",
       "  </tbody>\n",
       "</table>\n",
       "</div>"
      ],
      "text/plain": [
       "   Goalie  Kicker\n",
       "L    0.57    0.45\n",
       "C    0.02    0.17\n",
       "R    0.41    0.38"
      ]
     },
     "execution_count": 5,
     "metadata": {},
     "output_type": "execute_result"
    }
   ],
   "source": [
    "# frequency of kicks by (kicker, goalie) actions\n",
    "F = np.array([\n",
    "    [117, 48, 95],\n",
    "    [4, 3, 4], \n",
    "    [85, 28, 75]\n",
    "])\n",
    "tab = pd.DataFrame(F, index=A, columns=A)\n",
    "tab.index.name = 'Goalie'\n",
    "tab.columns.name = 'Kicker' \n",
    "\n",
    "# action frequencies in the data \n",
    "a_kicker = tab.sum(0) / tab.sum().sum()\n",
    "a_goalie = tab.sum(1) / tab.sum().sum()\n",
    "\n",
    "print(f'--- Action frequencies ---')\n",
    "pd.DataFrame({'Goalie': a_goalie, 'Kicker': a_kicker}, index=A).round(2)"
   ]
  },
  {
   "cell_type": "code",
   "execution_count": 6,
   "metadata": {},
   "outputs": [],
   "source": [
    "# Pr(save|kicker is left-legged)\n",
    "UL = np.array([\n",
    "    [0.418, 0.188, 0.055],\n",
    "    [0.   , 1.   , 0.   ],\n",
    "    [0.109, 0.107, 0.51 ]\n",
    "])\n",
    "# Pr(save|kicker is right-legged)\n",
    "UR = np.array([\n",
    "    [0.318, 0.188, 0.155],\n",
    "    [0.   , 1.   , 0.   ],\n",
    "    [0.009, 0.107, 0.61 ]\n",
    "])"
   ]
  },
  {
   "cell_type": "code",
   "execution_count": 7,
   "metadata": {},
   "outputs": [
    {
     "data": {
      "text/html": [
       "<div>\n",
       "<style scoped>\n",
       "    .dataframe tbody tr th:only-of-type {\n",
       "        vertical-align: middle;\n",
       "    }\n",
       "\n",
       "    .dataframe tbody tr th {\n",
       "        vertical-align: top;\n",
       "    }\n",
       "\n",
       "    .dataframe thead th {\n",
       "        text-align: right;\n",
       "    }\n",
       "</style>\n",
       "<table border=\"1\" class=\"dataframe\">\n",
       "  <thead>\n",
       "    <tr style=\"text-align: right;\">\n",
       "      <th>Kicker</th>\n",
       "      <th>L</th>\n",
       "      <th>C</th>\n",
       "      <th>R</th>\n",
       "    </tr>\n",
       "    <tr>\n",
       "      <th>Goalie</th>\n",
       "      <th></th>\n",
       "      <th></th>\n",
       "      <th></th>\n",
       "    </tr>\n",
       "  </thead>\n",
       "  <tbody>\n",
       "    <tr>\n",
       "      <th>L</th>\n",
       "      <td>0.418</td>\n",
       "      <td>0.188</td>\n",
       "      <td>0.055</td>\n",
       "    </tr>\n",
       "    <tr>\n",
       "      <th>C</th>\n",
       "      <td>0.000</td>\n",
       "      <td>1.000</td>\n",
       "      <td>0.000</td>\n",
       "    </tr>\n",
       "    <tr>\n",
       "      <th>R</th>\n",
       "      <td>0.109</td>\n",
       "      <td>0.107</td>\n",
       "      <td>0.510</td>\n",
       "    </tr>\n",
       "  </tbody>\n",
       "</table>\n",
       "</div>"
      ],
      "text/plain": [
       "Kicker      L      C      R\n",
       "Goalie                     \n",
       "L       0.418  0.188  0.055\n",
       "C       0.000  1.000  0.000\n",
       "R       0.109  0.107  0.510"
      ]
     },
     "execution_count": 7,
     "metadata": {},
     "output_type": "execute_result"
    }
   ],
   "source": [
    "saves_leftie = pd.DataFrame(UL, index=A, columns=A)\n",
    "saves_leftie.index.name = 'Goalie'\n",
    "saves_leftie.columns.name = 'Kicker'\n",
    "saves_leftie"
   ]
  },
  {
   "cell_type": "code",
   "execution_count": 8,
   "metadata": {},
   "outputs": [
    {
     "data": {
      "text/html": [
       "<div>\n",
       "<style scoped>\n",
       "    .dataframe tbody tr th:only-of-type {\n",
       "        vertical-align: middle;\n",
       "    }\n",
       "\n",
       "    .dataframe tbody tr th {\n",
       "        vertical-align: top;\n",
       "    }\n",
       "\n",
       "    .dataframe thead th {\n",
       "        text-align: right;\n",
       "    }\n",
       "</style>\n",
       "<table border=\"1\" class=\"dataframe\">\n",
       "  <thead>\n",
       "    <tr style=\"text-align: right;\">\n",
       "      <th>Kicker</th>\n",
       "      <th>L</th>\n",
       "      <th>C</th>\n",
       "      <th>R</th>\n",
       "    </tr>\n",
       "    <tr>\n",
       "      <th>Goalie</th>\n",
       "      <th></th>\n",
       "      <th></th>\n",
       "      <th></th>\n",
       "    </tr>\n",
       "  </thead>\n",
       "  <tbody>\n",
       "    <tr>\n",
       "      <th>L</th>\n",
       "      <td>0.318</td>\n",
       "      <td>0.188</td>\n",
       "      <td>0.155</td>\n",
       "    </tr>\n",
       "    <tr>\n",
       "      <th>C</th>\n",
       "      <td>0.000</td>\n",
       "      <td>1.000</td>\n",
       "      <td>0.000</td>\n",
       "    </tr>\n",
       "    <tr>\n",
       "      <th>R</th>\n",
       "      <td>0.009</td>\n",
       "      <td>0.107</td>\n",
       "      <td>0.610</td>\n",
       "    </tr>\n",
       "  </tbody>\n",
       "</table>\n",
       "</div>"
      ],
      "text/plain": [
       "Kicker      L      C      R\n",
       "Goalie                     \n",
       "L       0.318  0.188  0.155\n",
       "C       0.000  1.000  0.000\n",
       "R       0.009  0.107  0.610"
      ]
     },
     "execution_count": 8,
     "metadata": {},
     "output_type": "execute_result"
    }
   ],
   "source": [
    "saves_rightie = pd.DataFrame(UR, index=A, columns=A)\n",
    "saves_rightie.index.name = 'Goalie'\n",
    "saves_rightie.columns.name = 'Kicker'\n",
    "saves_rightie"
   ]
  },
  {
   "cell_type": "markdown",
   "metadata": {},
   "source": [
    "Set up the sub-game where the kicker is left-legged and this is known by both players as a normal form game. "
   ]
  },
  {
   "cell_type": "code",
   "execution_count": 9,
   "metadata": {},
   "outputs": [
    {
     "data": {
      "text/html": [
       "<div>\n",
       "<style scoped>\n",
       "    .dataframe tbody tr th:only-of-type {\n",
       "        vertical-align: middle;\n",
       "    }\n",
       "\n",
       "    .dataframe tbody tr th {\n",
       "        vertical-align: top;\n",
       "    }\n",
       "\n",
       "    .dataframe thead th {\n",
       "        text-align: right;\n",
       "    }\n",
       "</style>\n",
       "<table border=\"1\" class=\"dataframe\">\n",
       "  <thead>\n",
       "    <tr style=\"text-align: right;\">\n",
       "      <th>Kicker</th>\n",
       "      <th>L</th>\n",
       "      <th>C</th>\n",
       "      <th>R</th>\n",
       "    </tr>\n",
       "    <tr>\n",
       "      <th>Goalie</th>\n",
       "      <th></th>\n",
       "      <th></th>\n",
       "      <th></th>\n",
       "    </tr>\n",
       "  </thead>\n",
       "  <tbody>\n",
       "    <tr>\n",
       "      <th>L</th>\n",
       "      <td>(0.418, -0.418)</td>\n",
       "      <td>(0.188, -0.188)</td>\n",
       "      <td>(0.055, -0.055)</td>\n",
       "    </tr>\n",
       "    <tr>\n",
       "      <th>C</th>\n",
       "      <td>(0.0, -0.0)</td>\n",
       "      <td>(1.0, -1.0)</td>\n",
       "      <td>(0.0, -0.0)</td>\n",
       "    </tr>\n",
       "    <tr>\n",
       "      <th>R</th>\n",
       "      <td>(0.109, -0.109)</td>\n",
       "      <td>(0.107, -0.107)</td>\n",
       "      <td>(0.51, -0.51)</td>\n",
       "    </tr>\n",
       "  </tbody>\n",
       "</table>\n",
       "</div>"
      ],
      "text/plain": [
       "Kicker                L                C                R\n",
       "Goalie                                                   \n",
       "L       (0.418, -0.418)  (0.188, -0.188)  (0.055, -0.055)\n",
       "C           (0.0, -0.0)      (1.0, -1.0)      (0.0, -0.0)\n",
       "R       (0.109, -0.109)  (0.107, -0.107)    (0.51, -0.51)"
      ]
     },
     "execution_count": 9,
     "metadata": {},
     "output_type": "execute_result"
    }
   ],
   "source": [
    "t = print_payoffs(UL, -UL, A, A, 'Goalie', 'Kicker')\n",
    "t"
   ]
  },
  {
   "cell_type": "markdown",
   "metadata": {},
   "source": [
    "## 1.1"
   ]
  },
  {
   "cell_type": "code",
   "execution_count": 10,
   "metadata": {},
   "outputs": [
    {
     "name": "stdout",
     "output_type": "stream",
     "text": [
      "Goalie strategy: [0.46793534 0.10847231 0.42359234] \n",
      "Kicker strategy: [0.42593202 0.24176854 0.33229944]\n"
     ]
    }
   ],
   "source": [
    "game_known_left = nashpy.Game(UL, -UL)\n",
    "equilibria_known_left = list(game_known_left.support_enumeration())\n",
    "print(f'Goalie strategy: {equilibria_known_left[0][0]} \\nKicker strategy: {equilibria_known_left[0][1]}')"
   ]
  },
  {
   "cell_type": "code",
   "execution_count": 11,
   "metadata": {},
   "outputs": [
    {
     "name": "stdout",
     "output_type": "stream",
     "text": [
      "Goalie strategy: [0.72746551 0.07523519 0.1972993 ] \n",
      "Kicker strategy: [0.43200679 0.23310973 0.33488348]\n"
     ]
    }
   ],
   "source": [
    "game_known_right = nashpy.Game(UR, -UR)\n",
    "equilibria_known_right = list(game_known_right.support_enumeration())\n",
    "print(f'Goalie strategy: {equilibria_known_right[0][0]} \\nKicker strategy: {equilibria_known_right[0][1]}')"
   ]
  },
  {
   "cell_type": "markdown",
   "metadata": {},
   "source": [
    "# 1.2"
   ]
  },
  {
   "cell_type": "code",
   "execution_count": 43,
   "metadata": {},
   "outputs": [
    {
     "name": "stdout",
     "output_type": "stream",
     "text": [
      "--- Hvis angriberen er vesntrebenet og kun selv ved det ---\n"
     ]
    },
    {
     "data": {
      "text/html": [
       "<div>\n",
       "<style scoped>\n",
       "    .dataframe tbody tr th:only-of-type {\n",
       "        vertical-align: middle;\n",
       "    }\n",
       "\n",
       "    .dataframe tbody tr th {\n",
       "        vertical-align: top;\n",
       "    }\n",
       "\n",
       "    .dataframe thead th {\n",
       "        text-align: right;\n",
       "    }\n",
       "</style>\n",
       "<table border=\"1\" class=\"dataframe\">\n",
       "  <thead>\n",
       "    <tr style=\"text-align: right;\">\n",
       "      <th></th>\n",
       "      <th>L</th>\n",
       "      <th>C</th>\n",
       "      <th>R</th>\n",
       "    </tr>\n",
       "  </thead>\n",
       "  <tbody>\n",
       "    <tr>\n",
       "      <th>L</th>\n",
       "      <td>(0.33, 0.58)</td>\n",
       "      <td>(0.19, 0.81)</td>\n",
       "      <td>(0.14, 0.94)</td>\n",
       "    </tr>\n",
       "    <tr>\n",
       "      <th>C</th>\n",
       "      <td>(0.0, 1.0)</td>\n",
       "      <td>(1.0, 0.0)</td>\n",
       "      <td>(0.0, 1.0)</td>\n",
       "    </tr>\n",
       "    <tr>\n",
       "      <th>R</th>\n",
       "      <td>(0.02, 0.89)</td>\n",
       "      <td>(0.11, 0.89)</td>\n",
       "      <td>(0.6, 0.49)</td>\n",
       "    </tr>\n",
       "  </tbody>\n",
       "</table>\n",
       "</div>"
      ],
      "text/plain": [
       "              L             C             R\n",
       "L  (0.33, 0.58)  (0.19, 0.81)  (0.14, 0.94)\n",
       "C    (0.0, 1.0)    (1.0, 0.0)    (0.0, 1.0)\n",
       "R  (0.02, 0.89)  (0.11, 0.89)   (0.6, 0.49)"
      ]
     },
     "execution_count": 43,
     "metadata": {},
     "output_type": "execute_result"
    }
   ],
   "source": [
    "print(f'--- Hvis angriberen er vesntrebenet og kun selv ved det ---')\n",
    "bimatrix.print_payoffs([0.11*UL+0.89*UR, 1-UL], [A, A],2)\n"
   ]
  },
  {
   "cell_type": "code",
   "execution_count": 44,
   "metadata": {},
   "outputs": [
    {
     "name": "stdout",
     "output_type": "stream",
     "text": [
      "--- Hvis angriberen er vesntrebenet og kun selv ved det ---\n"
     ]
    },
    {
     "data": {
      "text/html": [
       "<div>\n",
       "<style scoped>\n",
       "    .dataframe tbody tr th:only-of-type {\n",
       "        vertical-align: middle;\n",
       "    }\n",
       "\n",
       "    .dataframe tbody tr th {\n",
       "        vertical-align: top;\n",
       "    }\n",
       "\n",
       "    .dataframe thead th {\n",
       "        text-align: right;\n",
       "    }\n",
       "</style>\n",
       "<table border=\"1\" class=\"dataframe\">\n",
       "  <thead>\n",
       "    <tr style=\"text-align: right;\">\n",
       "      <th></th>\n",
       "      <th>L</th>\n",
       "      <th>C</th>\n",
       "      <th>R</th>\n",
       "    </tr>\n",
       "  </thead>\n",
       "  <tbody>\n",
       "    <tr>\n",
       "      <th>L</th>\n",
       "      <td>(0.33, 0.68)</td>\n",
       "      <td>(0.19, 0.81)</td>\n",
       "      <td>(0.14, 0.84)</td>\n",
       "    </tr>\n",
       "    <tr>\n",
       "      <th>C</th>\n",
       "      <td>(0.0, 1.0)</td>\n",
       "      <td>(1.0, 0.0)</td>\n",
       "      <td>(0.0, 1.0)</td>\n",
       "    </tr>\n",
       "    <tr>\n",
       "      <th>R</th>\n",
       "      <td>(0.02, 0.99)</td>\n",
       "      <td>(0.11, 0.89)</td>\n",
       "      <td>(0.6, 0.39)</td>\n",
       "    </tr>\n",
       "  </tbody>\n",
       "</table>\n",
       "</div>"
      ],
      "text/plain": [
       "              L             C             R\n",
       "L  (0.33, 0.68)  (0.19, 0.81)  (0.14, 0.84)\n",
       "C    (0.0, 1.0)    (1.0, 0.0)    (0.0, 1.0)\n",
       "R  (0.02, 0.99)  (0.11, 0.89)   (0.6, 0.39)"
      ]
     },
     "execution_count": 44,
     "metadata": {},
     "output_type": "execute_result"
    }
   ],
   "source": [
    "print(f'--- Hvis angriberen er vesntrebenet og kun selv ved det ---')\n",
    "bimatrix.print_payoffs([0.11*UL+0.89*UR, 1-UR], [A, A],2)"
   ]
  },
  {
   "cell_type": "code",
   "execution_count": 45,
   "metadata": {},
   "outputs": [],
   "source": [
    "p = 0.11\n",
    "U_goalie = p * UL + (1 - p) * UR"
   ]
  },
  {
   "cell_type": "code",
   "execution_count": 46,
   "metadata": {},
   "outputs": [],
   "source": [
    "def compute_full_matrix(U1, U2, p, action_names=None): \n",
    "    '''\n",
    "        Assumes that only player 2's type varies \n",
    "        (this means that player 1 has one action per row in U1, \n",
    "         while 2 has nA2**2 (one choice per type))\n",
    "        Both players have one utility matrix for each realization \n",
    "        of player 2's type. \n",
    "         \n",
    "        INPUTS: \n",
    "            U1: list of 2 payoff matrices for player 1 (row player)\n",
    "            U2: list of 2 payoff matrices for player 2 (column player)\n",
    "            p: (scalar) Probability that player 2 is the first type \n",
    "            action_names: [optional] 2-list of names of actions (nA1 and nA2 long)\n",
    "        OUTPUTS: \n",
    "            t1, t2: wide-form payoff matrices suitable for finding the NE \n",
    "            A1, A2: names of actions \n",
    "    '''\n",
    "    assert len(U1) == 2\n",
    "    assert len(U2) == 2 \n",
    "    assert np.isscalar(p)\n",
    "    nA1, nA2 = U1[0].shape\n",
    "    \n",
    "    t1 = np.empty((nA1, nA2*nA2))\n",
    "    t2 = np.empty((nA1, nA2*nA2))\n",
    "    \n",
    "    # player 1 chooses an action without knowing what type 2 is \n",
    "    for ia1 in range(nA1): \n",
    "        i_col = 0 \n",
    "        \n",
    "        # player 2 chooses an action conditional on observing her type \n",
    "        for a2_1 in range(nA2): \n",
    "            for a2_2 in range(nA2): \n",
    "                t1[ia1,i_col] = p * U1[0][ia1,a2_1] + (1.-p) * U1[1][ia1,a2_2]\n",
    "                t2[ia1,i_col] = p * U2[0][ia1,a2_1] + (1.-p) * U2[1][ia1,a2_2]\n",
    "                \n",
    "                i_col += 1\n",
    "                \n",
    "    if action_names is None: \n",
    "        A1 = [f'{i}' for i in range(nA1)]\n",
    "        A2 = [f'{a}{b}' for a in range(nA2) for b in range(nA2)]\n",
    "    else: \n",
    "        assert len(action_names) == 2 \n",
    "        A1 = action_names[0]\n",
    "        assert len(A1) == nA1, f'Incorrect # of action names'\n",
    "        a2 = action_names[1]\n",
    "        assert len(a2) == nA2, f'Incorrect # of action names'\n",
    "        \n",
    "        A2 = [f'{a}{b}' for a in a2 for b in a2]\n",
    "        \n",
    "    return t1, t2, A1, A2"
   ]
  },
  {
   "cell_type": "code",
   "execution_count": 48,
   "metadata": {},
   "outputs": [],
   "source": [
    "t1, t2, A1, A2 = compute_full_matrix([U_goalie, U_goalie], [1-UL, 1-UR], 0.11, [A, A])"
   ]
  },
  {
   "cell_type": "code",
   "execution_count": 49,
   "metadata": {},
   "outputs": [
    {
     "data": {
      "text/html": [
       "<div>\n",
       "<style scoped>\n",
       "    .dataframe tbody tr th:only-of-type {\n",
       "        vertical-align: middle;\n",
       "    }\n",
       "\n",
       "    .dataframe tbody tr th {\n",
       "        vertical-align: top;\n",
       "    }\n",
       "\n",
       "    .dataframe thead th {\n",
       "        text-align: right;\n",
       "    }\n",
       "</style>\n",
       "<table border=\"1\" class=\"dataframe\">\n",
       "  <thead>\n",
       "    <tr style=\"text-align: right;\">\n",
       "      <th></th>\n",
       "      <th>LL</th>\n",
       "      <th>LC</th>\n",
       "      <th>LR</th>\n",
       "      <th>CL</th>\n",
       "      <th>CC</th>\n",
       "      <th>CR</th>\n",
       "      <th>RL</th>\n",
       "      <th>RC</th>\n",
       "      <th>RR</th>\n",
       "    </tr>\n",
       "  </thead>\n",
       "  <tbody>\n",
       "    <tr>\n",
       "      <th>L</th>\n",
       "      <td>(0.329, 0.671)</td>\n",
       "      <td>(0.204, 0.787)</td>\n",
       "      <td>(0.164, 0.816)</td>\n",
       "      <td>(0.313, 0.696)</td>\n",
       "      <td>(0.188, 0.812)</td>\n",
       "      <td>(0.149, 0.841)</td>\n",
       "      <td>(0.309, 0.711)</td>\n",
       "      <td>(0.183, 0.827)</td>\n",
       "      <td>(0.144, 0.856)</td>\n",
       "    </tr>\n",
       "    <tr>\n",
       "      <th>C</th>\n",
       "      <td>(0.0, 1.0)</td>\n",
       "      <td>(0.89, 0.11)</td>\n",
       "      <td>(0.0, 1.0)</td>\n",
       "      <td>(0.11, 0.89)</td>\n",
       "      <td>(1.0, 0.0)</td>\n",
       "      <td>(0.11, 0.89)</td>\n",
       "      <td>(0.0, 1.0)</td>\n",
       "      <td>(0.89, 0.11)</td>\n",
       "      <td>(0.0, 1.0)</td>\n",
       "    </tr>\n",
       "    <tr>\n",
       "      <th>R</th>\n",
       "      <td>(0.02, 0.98)</td>\n",
       "      <td>(0.097, 0.893)</td>\n",
       "      <td>(0.535, 0.445)</td>\n",
       "      <td>(0.03, 0.98)</td>\n",
       "      <td>(0.107, 0.893)</td>\n",
       "      <td>(0.545, 0.445)</td>\n",
       "      <td>(0.084, 0.936)</td>\n",
       "      <td>(0.161, 0.849)</td>\n",
       "      <td>(0.599, 0.401)</td>\n",
       "    </tr>\n",
       "  </tbody>\n",
       "</table>\n",
       "</div>"
      ],
      "text/plain": [
       "               LL              LC              LR              CL  \\\n",
       "L  (0.329, 0.671)  (0.204, 0.787)  (0.164, 0.816)  (0.313, 0.696)   \n",
       "C      (0.0, 1.0)    (0.89, 0.11)      (0.0, 1.0)    (0.11, 0.89)   \n",
       "R    (0.02, 0.98)  (0.097, 0.893)  (0.535, 0.445)    (0.03, 0.98)   \n",
       "\n",
       "               CC              CR              RL              RC  \\\n",
       "L  (0.188, 0.812)  (0.149, 0.841)  (0.309, 0.711)  (0.183, 0.827)   \n",
       "C      (1.0, 0.0)    (0.11, 0.89)      (0.0, 1.0)    (0.89, 0.11)   \n",
       "R  (0.107, 0.893)  (0.545, 0.445)  (0.084, 0.936)  (0.161, 0.849)   \n",
       "\n",
       "               RR  \n",
       "L  (0.144, 0.856)  \n",
       "C      (0.0, 1.0)  \n",
       "R  (0.599, 0.401)  "
      ]
     },
     "execution_count": 49,
     "metadata": {},
     "output_type": "execute_result"
    }
   ],
   "source": [
    "bimatrix.print_payoffs([t1, t2], [A1,  A2], 3)"
   ]
  },
  {
   "cell_type": "code",
   "execution_count": 50,
   "metadata": {},
   "outputs": [],
   "source": [
    "A_, T_ = IESDS([A1, A2], [t1, t2], DOPRINT=True)"
   ]
  },
  {
   "cell_type": "code",
   "execution_count": 51,
   "metadata": {},
   "outputs": [
    {
     "data": {
      "text/html": [
       "<div>\n",
       "<style scoped>\n",
       "    .dataframe tbody tr th:only-of-type {\n",
       "        vertical-align: middle;\n",
       "    }\n",
       "\n",
       "    .dataframe tbody tr th {\n",
       "        vertical-align: top;\n",
       "    }\n",
       "\n",
       "    .dataframe thead th {\n",
       "        text-align: right;\n",
       "    }\n",
       "</style>\n",
       "<table border=\"1\" class=\"dataframe\">\n",
       "  <thead>\n",
       "    <tr style=\"text-align: right;\">\n",
       "      <th></th>\n",
       "      <th>LL</th>\n",
       "      <th>LC</th>\n",
       "      <th>LR</th>\n",
       "      <th>CL</th>\n",
       "      <th>CC</th>\n",
       "      <th>CR</th>\n",
       "      <th>RL</th>\n",
       "      <th>RC</th>\n",
       "      <th>RR</th>\n",
       "    </tr>\n",
       "  </thead>\n",
       "  <tbody>\n",
       "    <tr>\n",
       "      <th>L</th>\n",
       "      <td>(0.329, 0.671)</td>\n",
       "      <td>(0.204, 0.787)</td>\n",
       "      <td>(0.164, 0.816)</td>\n",
       "      <td>(0.313, 0.696)</td>\n",
       "      <td>(0.188, 0.812)</td>\n",
       "      <td>(0.149, 0.841)</td>\n",
       "      <td>(0.309, 0.711)</td>\n",
       "      <td>(0.183, 0.827)</td>\n",
       "      <td>(0.144, 0.856)</td>\n",
       "    </tr>\n",
       "    <tr>\n",
       "      <th>C</th>\n",
       "      <td>(0.0, 1.0)</td>\n",
       "      <td>(0.89, 0.11)</td>\n",
       "      <td>(0.0, 1.0)</td>\n",
       "      <td>(0.11, 0.89)</td>\n",
       "      <td>(1.0, 0.0)</td>\n",
       "      <td>(0.11, 0.89)</td>\n",
       "      <td>(0.0, 1.0)</td>\n",
       "      <td>(0.89, 0.11)</td>\n",
       "      <td>(0.0, 1.0)</td>\n",
       "    </tr>\n",
       "    <tr>\n",
       "      <th>R</th>\n",
       "      <td>(0.02, 0.98)</td>\n",
       "      <td>(0.097, 0.893)</td>\n",
       "      <td>(0.535, 0.445)</td>\n",
       "      <td>(0.03, 0.98)</td>\n",
       "      <td>(0.107, 0.893)</td>\n",
       "      <td>(0.545, 0.445)</td>\n",
       "      <td>(0.084, 0.936)</td>\n",
       "      <td>(0.161, 0.849)</td>\n",
       "      <td>(0.599, 0.401)</td>\n",
       "    </tr>\n",
       "  </tbody>\n",
       "</table>\n",
       "</div>"
      ],
      "text/plain": [
       "               LL              LC              LR              CL  \\\n",
       "L  (0.329, 0.671)  (0.204, 0.787)  (0.164, 0.816)  (0.313, 0.696)   \n",
       "C      (0.0, 1.0)    (0.89, 0.11)      (0.0, 1.0)    (0.11, 0.89)   \n",
       "R    (0.02, 0.98)  (0.097, 0.893)  (0.535, 0.445)    (0.03, 0.98)   \n",
       "\n",
       "               CC              CR              RL              RC  \\\n",
       "L  (0.188, 0.812)  (0.149, 0.841)  (0.309, 0.711)  (0.183, 0.827)   \n",
       "C      (1.0, 0.0)    (0.11, 0.89)      (0.0, 1.0)    (0.89, 0.11)   \n",
       "R  (0.107, 0.893)  (0.545, 0.445)  (0.084, 0.936)  (0.161, 0.849)   \n",
       "\n",
       "               RR  \n",
       "L  (0.144, 0.856)  \n",
       "C      (0.0, 1.0)  \n",
       "R  (0.599, 0.401)  "
      ]
     },
     "execution_count": 51,
     "metadata": {},
     "output_type": "execute_result"
    }
   ],
   "source": [
    "print_payoffs(T_, A_, 3)"
   ]
  },
  {
   "cell_type": "code",
   "execution_count": 52,
   "metadata": {},
   "outputs": [
    {
     "name": "stdout",
     "output_type": "stream",
     "text": [
      "Found 1 equilibria\n",
      "1: s1 = [0.72746551 0.07523519 0.1972993 ], s2 = [0.         0.         0.         0.         0.         0.\n",
      " 0.48462526 0.2630266  0.25234814]\n",
      "Goalie strategy: [0.72746551 0.07523519 0.1972993 ] \n",
      "Kicker strategy: [0.         0.         0.         0.         0.         0.\n",
      " 0.48462526 0.2630266  0.25234814]\n"
     ]
    }
   ],
   "source": [
    "eqs = list(nashpy.Game(T_[0], T_[1]).support_enumeration())\n",
    "print(f'Found {len(eqs)} equilibria')\n",
    "for i,eq in enumerate(eqs): \n",
    "    print(f'{i+1}: s1 = {eq[0]}, s2 = {eq[1]}')\n",
    "\n",
    "print(f'Goalie strategy: {eqs[0][0]} \\nKicker strategy: {eqs[0][1]}')"
   ]
  },
  {
   "cell_type": "markdown",
   "metadata": {},
   "source": [
    "# 1.3"
   ]
  },
  {
   "cell_type": "code",
   "execution_count": 53,
   "metadata": {},
   "outputs": [],
   "source": [
    "p=0.89\n",
    "U_goalie = p * UL + (1 - p) * UR"
   ]
  },
  {
   "cell_type": "code",
   "execution_count": 54,
   "metadata": {},
   "outputs": [],
   "source": [
    "t1, t2, A1, A2 = compute_full_matrix([U_goalie, U_goalie], [1-UL, 1-UR], 0.89, [A, A])"
   ]
  },
  {
   "cell_type": "code",
   "execution_count": 55,
   "metadata": {},
   "outputs": [
    {
     "data": {
      "text/html": [
       "<div>\n",
       "<style scoped>\n",
       "    .dataframe tbody tr th:only-of-type {\n",
       "        vertical-align: middle;\n",
       "    }\n",
       "\n",
       "    .dataframe tbody tr th {\n",
       "        vertical-align: top;\n",
       "    }\n",
       "\n",
       "    .dataframe thead th {\n",
       "        text-align: right;\n",
       "    }\n",
       "</style>\n",
       "<table border=\"1\" class=\"dataframe\">\n",
       "  <thead>\n",
       "    <tr style=\"text-align: right;\">\n",
       "      <th></th>\n",
       "      <th>LL</th>\n",
       "      <th>LC</th>\n",
       "      <th>LR</th>\n",
       "      <th>CL</th>\n",
       "      <th>CC</th>\n",
       "      <th>CR</th>\n",
       "      <th>RL</th>\n",
       "      <th>RC</th>\n",
       "      <th>RR</th>\n",
       "    </tr>\n",
       "  </thead>\n",
       "  <tbody>\n",
       "    <tr>\n",
       "      <th>L</th>\n",
       "      <td>(0.407, 0.593)</td>\n",
       "      <td>(0.383, 0.607)</td>\n",
       "      <td>(0.369, 0.611)</td>\n",
       "      <td>(0.212, 0.798)</td>\n",
       "      <td>(0.188, 0.812)</td>\n",
       "      <td>(0.175, 0.816)</td>\n",
       "      <td>(0.104, 0.916)</td>\n",
       "      <td>(0.079, 0.93)</td>\n",
       "      <td>(0.066, 0.934)</td>\n",
       "    </tr>\n",
       "    <tr>\n",
       "      <th>C</th>\n",
       "      <td>(0.0, 1.0)</td>\n",
       "      <td>(0.11, 0.89)</td>\n",
       "      <td>(0.0, 1.0)</td>\n",
       "      <td>(0.89, 0.11)</td>\n",
       "      <td>(1.0, 0.0)</td>\n",
       "      <td>(0.89, 0.11)</td>\n",
       "      <td>(0.0, 1.0)</td>\n",
       "      <td>(0.11, 0.89)</td>\n",
       "      <td>(0.0, 1.0)</td>\n",
       "    </tr>\n",
       "    <tr>\n",
       "      <th>R</th>\n",
       "      <td>(0.098, 0.902)</td>\n",
       "      <td>(0.099, 0.891)</td>\n",
       "      <td>(0.145, 0.836)</td>\n",
       "      <td>(0.106, 0.904)</td>\n",
       "      <td>(0.107, 0.893)</td>\n",
       "      <td>(0.153, 0.838)</td>\n",
       "      <td>(0.474, 0.545)</td>\n",
       "      <td>(0.475, 0.534)</td>\n",
       "      <td>(0.521, 0.479)</td>\n",
       "    </tr>\n",
       "  </tbody>\n",
       "</table>\n",
       "</div>"
      ],
      "text/plain": [
       "               LL              LC              LR              CL  \\\n",
       "L  (0.407, 0.593)  (0.383, 0.607)  (0.369, 0.611)  (0.212, 0.798)   \n",
       "C      (0.0, 1.0)    (0.11, 0.89)      (0.0, 1.0)    (0.89, 0.11)   \n",
       "R  (0.098, 0.902)  (0.099, 0.891)  (0.145, 0.836)  (0.106, 0.904)   \n",
       "\n",
       "               CC              CR              RL              RC  \\\n",
       "L  (0.188, 0.812)  (0.175, 0.816)  (0.104, 0.916)   (0.079, 0.93)   \n",
       "C      (1.0, 0.0)    (0.89, 0.11)      (0.0, 1.0)    (0.11, 0.89)   \n",
       "R  (0.107, 0.893)  (0.153, 0.838)  (0.474, 0.545)  (0.475, 0.534)   \n",
       "\n",
       "               RR  \n",
       "L  (0.066, 0.934)  \n",
       "C      (0.0, 1.0)  \n",
       "R  (0.521, 0.479)  "
      ]
     },
     "execution_count": 55,
     "metadata": {},
     "output_type": "execute_result"
    }
   ],
   "source": [
    "bimatrix.print_payoffs([t1, t2], [A1,  A2], 3)"
   ]
  },
  {
   "cell_type": "code",
   "execution_count": 56,
   "metadata": {},
   "outputs": [],
   "source": [
    "A_, T_ = IESDS([A1, A2], [t1, t2], DOPRINT=True)"
   ]
  },
  {
   "cell_type": "code",
   "execution_count": 57,
   "metadata": {},
   "outputs": [
    {
     "data": {
      "text/html": [
       "<div>\n",
       "<style scoped>\n",
       "    .dataframe tbody tr th:only-of-type {\n",
       "        vertical-align: middle;\n",
       "    }\n",
       "\n",
       "    .dataframe tbody tr th {\n",
       "        vertical-align: top;\n",
       "    }\n",
       "\n",
       "    .dataframe thead th {\n",
       "        text-align: right;\n",
       "    }\n",
       "</style>\n",
       "<table border=\"1\" class=\"dataframe\">\n",
       "  <thead>\n",
       "    <tr style=\"text-align: right;\">\n",
       "      <th></th>\n",
       "      <th>LL</th>\n",
       "      <th>LC</th>\n",
       "      <th>LR</th>\n",
       "      <th>CL</th>\n",
       "      <th>CC</th>\n",
       "      <th>CR</th>\n",
       "      <th>RL</th>\n",
       "      <th>RC</th>\n",
       "      <th>RR</th>\n",
       "    </tr>\n",
       "  </thead>\n",
       "  <tbody>\n",
       "    <tr>\n",
       "      <th>L</th>\n",
       "      <td>(0.407, 0.593)</td>\n",
       "      <td>(0.383, 0.607)</td>\n",
       "      <td>(0.369, 0.611)</td>\n",
       "      <td>(0.212, 0.798)</td>\n",
       "      <td>(0.188, 0.812)</td>\n",
       "      <td>(0.175, 0.816)</td>\n",
       "      <td>(0.104, 0.916)</td>\n",
       "      <td>(0.079, 0.93)</td>\n",
       "      <td>(0.066, 0.934)</td>\n",
       "    </tr>\n",
       "    <tr>\n",
       "      <th>C</th>\n",
       "      <td>(0.0, 1.0)</td>\n",
       "      <td>(0.11, 0.89)</td>\n",
       "      <td>(0.0, 1.0)</td>\n",
       "      <td>(0.89, 0.11)</td>\n",
       "      <td>(1.0, 0.0)</td>\n",
       "      <td>(0.89, 0.11)</td>\n",
       "      <td>(0.0, 1.0)</td>\n",
       "      <td>(0.11, 0.89)</td>\n",
       "      <td>(0.0, 1.0)</td>\n",
       "    </tr>\n",
       "    <tr>\n",
       "      <th>R</th>\n",
       "      <td>(0.098, 0.902)</td>\n",
       "      <td>(0.099, 0.891)</td>\n",
       "      <td>(0.145, 0.836)</td>\n",
       "      <td>(0.106, 0.904)</td>\n",
       "      <td>(0.107, 0.893)</td>\n",
       "      <td>(0.153, 0.838)</td>\n",
       "      <td>(0.474, 0.545)</td>\n",
       "      <td>(0.475, 0.534)</td>\n",
       "      <td>(0.521, 0.479)</td>\n",
       "    </tr>\n",
       "  </tbody>\n",
       "</table>\n",
       "</div>"
      ],
      "text/plain": [
       "               LL              LC              LR              CL  \\\n",
       "L  (0.407, 0.593)  (0.383, 0.607)  (0.369, 0.611)  (0.212, 0.798)   \n",
       "C      (0.0, 1.0)    (0.11, 0.89)      (0.0, 1.0)    (0.89, 0.11)   \n",
       "R  (0.098, 0.902)  (0.099, 0.891)  (0.145, 0.836)  (0.106, 0.904)   \n",
       "\n",
       "               CC              CR              RL              RC  \\\n",
       "L  (0.188, 0.812)  (0.175, 0.816)  (0.104, 0.916)   (0.079, 0.93)   \n",
       "C      (1.0, 0.0)    (0.89, 0.11)      (0.0, 1.0)    (0.11, 0.89)   \n",
       "R  (0.107, 0.893)  (0.153, 0.838)  (0.474, 0.545)  (0.475, 0.534)   \n",
       "\n",
       "               RR  \n",
       "L  (0.066, 0.934)  \n",
       "C      (0.0, 1.0)  \n",
       "R  (0.521, 0.479)  "
      ]
     },
     "execution_count": 57,
     "metadata": {},
     "output_type": "execute_result"
    }
   ],
   "source": [
    "print_payoffs(T_, A_, 3)"
   ]
  },
  {
   "cell_type": "code",
   "execution_count": 58,
   "metadata": {},
   "outputs": [
    {
     "name": "stdout",
     "output_type": "stream",
     "text": [
      "Found 1 equilibria\n",
      "1: s1 = [0.46793534 0.10847231 0.42359234], s2 = [0.3557065  0.         0.         0.27061422 0.         0.\n",
      " 0.37367928 0.         0.        ]\n",
      "Goalie strategy: [0.46793534 0.10847231 0.42359234] \n",
      "Kicker strategy: [0.3557065  0.         0.         0.27061422 0.         0.\n",
      " 0.37367928 0.         0.        ]\n"
     ]
    }
   ],
   "source": [
    "eqs = list(nashpy.Game(T_[0], T_[1]).support_enumeration())\n",
    "print(f'Found {len(eqs)} equilibria')\n",
    "for i,eq in enumerate(eqs): \n",
    "    print(f'{i+1}: s1 = {eq[0]}, s2 = {eq[1]}')\n",
    "\n",
    "print(f'Goalie strategy: {eqs[0][0]} \\nKicker strategy: {eqs[0][1]}')"
   ]
  }
 ],
 "metadata": {
  "interpreter": {
   "hash": "2f28796849cc7d0dfb7168fb91405d73a8cccecd280e63fee6edce8a728c9dcc"
  },
  "kernelspec": {
   "display_name": "Python 3.9.7 ('base')",
   "language": "python",
   "name": "python3"
  },
  "language_info": {
   "codemirror_mode": {
    "name": "ipython",
    "version": 3
   },
   "file_extension": ".py",
   "mimetype": "text/x-python",
   "name": "python",
   "nbconvert_exporter": "python",
   "pygments_lexer": "ipython3",
   "version": "3.10.12"
  }
 },
 "nbformat": 4,
 "nbformat_minor": 4
}
